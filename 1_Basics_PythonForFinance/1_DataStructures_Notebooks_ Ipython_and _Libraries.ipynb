{
 "cells": [
  {
   "cell_type": "markdown",
   "metadata": {},
   "source": [
    "# INTRODUCTION TO PYTHON\n",
    "\n",
    "---\n",
    "January, 2018   -- Version 2.7  \n",
    "Maria L Zamora Maass  \n"
   ]
  },
  {
   "cell_type": "markdown",
   "metadata": {},
   "source": [
    "<!-- <div class=\"alert alert-block alert-info\">   -->\n",
    "\n",
    "<!-- other options:  alert-warning alert-success alert-danger -->\n",
    "\n",
    "Here are some basic ideas to cover with Python: \n",
    "\n",
    "1. Python and Jupyter notebooks (terminal commands, formats, widgets) \n",
    "2. Basic data structures and classes\n",
    "3. Control flow and relational operators\n",
    "4. Functions and development modules (Ipython enhancement and Pydev)\n",
    "\n",
    "\n",
    "Reference texts and links:\n",
    "\n",
    "* Learning Python, 5th Edition by Mark Lutz, O'Reilly Media, 2013, ISBN 978-1-4493-5573-9\n",
    "* Clean Code: A Handbook of Agile Software Craftsmanship by Robert C. Martin, Prentice Hall, 2008, ISBN 000-0-1323-5088-2\n",
    "* Python for Data Analysis: Data Wrangling with Pandas, NumPy, and IPython by Wes McKinny, O'Reilly Media, 2012,\n",
    "ISBN 978-1-4493-1979-3\n",
    "* [Codeacademy](https://www.codecademy.com/learn/learn-python) -  Introduction to Data Analysis 10 weeks"
   ]
  },
  {
   "cell_type": "markdown",
   "metadata": {},
   "source": [
    "## 1. Python and Jupyter notebooks \n",
    "<!-- ## <font color=blue>1. Python and Jupyter notebooks </font>  -->\n",
    "\n",
    "<!-- <div class=\"alert alert-block alert-info\">  -->\n",
    "\n",
    "On one side, **Python**. This language is one the most frequently used, specially for Data Science. From this language, multiple languages, features and packages (a.k.a. modules or libraries) have been created: Ipython, Pandas, Numpy, Matplotlib, and more. \n",
    "\n",
    "On the other side, **Jupyter notebooks**. This platform is \"an interactive computational environment, in which you can combine code execution, rich text, mathematics, plots and rich media\". It's basically an app that allows you to create and share documents with live and static code that helps for tasks like data cleaning, data transformation, numerical simulation, statistical modeling, and machine learning. \n",
    "\n",
    "***\n",
    "\n",
    "***\n",
    "\n",
    "In particular, IPython notebooks are made up of **cells**. There are mainly 2 types of cells: *Markdown and Code cells*. You can edit a cell by double clicking on it. You can get it back to the display mode (run a cell) by pressing the Play ( ▶|) button, and you can also stop it with the square (◼︎).\n"
   ]
  },
  {
   "cell_type": "markdown",
   "metadata": {},
   "source": [
    "> More details: [IPython notebooks](http://jupyter.org/)"
   ]
  },
  {
   "cell_type": "markdown",
   "metadata": {},
   "source": [
    "<!-- <div class=\"alert alert-block alert-info\">  -->\n",
    "\n",
    "\n",
    "What are **\"markdown\"** cells for (like this one)? These spaces can help us with formatting, formulas (equations), static code, images, tables, links and more.\n",
    "\n",
    "<br>\n",
    "Please double-click on this cell to see the markdown version.\n",
    "\n",
    "<br>\n",
    "<b>Tex Math equations</b> \n",
    "\n",
    "\" s={\\sqrt {\\frac {\\sum _{i=1}^{N}(x_{i}-{\\overline {x}})^{2}}{N-1}}} \"\n",
    "\n",
    "<br>\n",
    " $ s={\\sqrt {\\frac {\\sum _{i=1}^{N}(x_{i}-{\\overline {x}})^{2}}{N-1}}} $   \n",
    "\n",
    "<br>\n",
    "<br>\n",
    "<b> Tables</b>\n",
    "\n",
    " Type | Qty | Price\n",
    "--- | --- | ---\n",
    "10YR | 2M | 100.2\n",
    "5YR | 1.5M | 100.3\n",
    "2YR | 4M | 100.1\n",
    "3YR | 1.5M | 100.2\n",
    "\n",
    "\n",
    "<br>\n",
    "<br>\n",
    "<b> Other type of code </b>\n",
    " ```javascript\n",
    "var s = \"JS string example\";\n",
    "alert(s);\n",
    "```\n",
    "\n",
    "<br>\n",
    "<br>\n",
    "<b> Links </b>\n",
    "<a href=\"https://www.youtube.com/watch?v=lmoNmY-cmSI\" target=\"_blank\"><img \n",
    "src=\"video.png\" \n",
    "width=\"240\" height=\"180\" border=\"10\" /></a>\n",
    "\n",
    "<br>\n",
    "<br>\n",
    "<b> Images </b>\n",
    "<img src=\"images/markdown.jpg\" width=\"400\" height=\"400\" border=\"10\" />\n"
   ]
  },
  {
   "cell_type": "markdown",
   "metadata": {},
   "source": [
    "\n",
    "***\n",
    "\n",
    "*** \n",
    "\n",
    "<!-- <div class=\"alert alert-block alert-info\">  -->\n",
    "\n",
    "Now, let's see a **\"code\"** cell. This could be Python code or even terminal commands. Each time we run a cell, our notebook will store those values for the following cells (look at the numbers on the left of each cell, that is basically the Input or Output reference)."
   ]
  },
  {
   "cell_type": "code",
   "execution_count": 1,
   "metadata": {},
   "outputs": [
    {
     "name": "stdout",
     "output_type": "stream",
     "text": [
      "---------Disk File system:\n",
      "Filesystem                           Type    Size  Used Avail Use% Mounted on\n",
      "C:/Program Files/Git                 ntfs    477G  179G  299G  38% /\n",
      "C:/Program Files/Git/usr/bin         -          -     -     -    - /bin\n",
      "C:/Users/MZAMOR~1/AppData/Local/Temp -          -     -     -    - /tmp\n",
      "C:                                   -          -     -     -    - /c\n",
      "F:                                   netapp  5.7T  4.9T  874G  86% /f\n",
      "G:                                   netapp  2.4T  1.8T  617G  75% /g\n",
      "J:                                   ntfs    137G   41G   97G  30% /j\n",
      "M:                                   ntfs    300M   43M  258M  15% /m\n",
      " \n",
      "---------Let's find TMP:\n",
      "C:/Users/MZAMOR~1/AppData/Local/Temp -          -     -     -    - /tmp\n",
      " \n",
      "---------Net use command:\n",
      "New connections will be remembered.\n",
      "\n",
      "\n",
      "Status       Local     Remote                    Network\n",
      "\n",
      "-------------------------------------------------------------------------------\n",
      "             F:        \\\\ad.jefco.com\\users\\JSQ-homedir05\\MZAMORAMAASS \n",
      "                                                Microsoft Windows Network\n",
      "             G:        \\\\ad.jefco.com\\users\\JSQ-homedir06 \n",
      "                                                Microsoft Windows Network\n",
      "             J:        \\\\ad.jefco.com\\fixedincome \n",
      "                                                Microsoft Windows Network\n",
      "The command completed successfully.\n",
      "\n"
     ]
    }
   ],
   "source": [
    "\n",
    "##### Terminal commands\n",
    "\n",
    "!printf \"---------Disk File system:\"\n",
    "!df -haT \n",
    "!printf \" \"\n",
    "\n",
    "!printf \"---------Let's find TMP:\"\n",
    "!df -haT | grep \"tmp\" \n",
    "!printf \" \"\n",
    "\n",
    "!printf \"---------Net use command:\"\n",
    "!net use\n"
   ]
  },
  {
   "cell_type": "code",
   "execution_count": 2,
   "metadata": {},
   "outputs": [
    {
     "name": "stdout",
     "output_type": "stream",
     "text": [
      "\n",
      "---------Python variable(list)\n",
      "[['Filesystem', 'Type', 'Size', 'Used', 'Avail', 'Use%', 'Mounted', 'on'], ['C:/Program', 'Files/Git', 'ntfs', '477G', '179G', '299G', '38%', '/'], ['C:/Program', 'Files/Git/usr/bin', '-', '-', '-', '-', '-', '/bin'], ['C:/Users/MZAMOR~1/AppData/Local/Temp', '-', '-', '-', '-', '-', '/tmp'], ['C:', '-', '-', '-', '-', '-', '/c'], ['F:', 'netapp', '5.7T', '4.9T', '874G', '86%', '/f'], ['G:', 'netapp', '2.4T', '1.8T', '617G', '75%', '/g'], ['J:', 'ntfs', '137G', '41G', '97G', '30%', '/j'], ['M:', 'ntfs', '300M', '43M', '258M', '15%', '/m']]\n",
      "\n",
      "---------Python grep (TMP) \n",
      "['C:/Users/MZAMOR~1/AppData/Local/Temp -          -     -     -    - /tmp']\n",
      "\n",
      "---------Python variable in the terminal\n",
      "\"['Filesystem                           Type    Size  Used Avail Use% Mounted on', 'C:/Program Files/Git                 ntfs    477G  179G  299G  38% /', 'C:/Program Files/Git/usr/bin         -          -     -     -    - /bin', 'C:/Users/MZAMOR~1/AppData/Local/Temp -          -     -     -    - /tmp', 'C:                                   -          -     -     -    - /c', 'F:                                   netapp  5.7T  4.9T  874G  86% /f', 'G:                                   netapp  2.4T  1.8T  617G  75% /g', 'J:                                   ntfs    137G   41G   97G  30% /j', 'M:                                   ntfs    300M   43M  258M  15% /m']\"   \n",
      "\n",
      "---------Call the terminal using modules\n",
      "1_DataStructures_Notebooks_ Ipython_and _Libraries.ipynb\n",
      "Ipython.JPG\n",
      "markdown.JPG\n",
      "video.png\n",
      "\n"
     ]
    }
   ],
   "source": [
    "\n",
    "##### Python using Jupyter notebook\n",
    "\n",
    "## Python variable (no need to declare)\n",
    "var_python = !df -haT \n",
    "\n",
    "## Attributes of the Python variable\n",
    "print \"\\n---------Python variable(list)\"\n",
    "print var_python.fields()\n",
    "print \"\\n---------Python grep (TMP) \"\n",
    "print var_python.grep(\"tmp\")\n",
    "\n",
    "!printf \"\\n---------Python variable in the terminal\"\n",
    "!echo \"{var_python}\"   \n",
    "##!echo \"$var_python\"\n",
    "\n",
    "##### Python using library called \"subprocess\" (modules)\n",
    "##### https://docs.python.org/2/library/subprocess.html#module-subprocess\n",
    "\n",
    "print \"\\n---------Call the terminal using modules\"\n",
    "import subprocess\n",
    "\n",
    "print subprocess.check_output( [ \"ls\" ], shell=True ) \n"
   ]
  },
  {
   "cell_type": "markdown",
   "metadata": {
    "collapsed": true
   },
   "source": [
    "## 2. Basic data structures \n",
    "\n",
    "<!-- ## <font color=blue>2. Basic data structures </font>  -->\n",
    "\n",
    "<!-- <div class=\"alert alert-bl?ock alert-info\">  -->\n",
    "\n",
    "**2.1** Most of the built-in **structures** correspond to the **collections** module.\n",
    "\n",
    "* Dictionary: \n",
    "    * { } or dict( )\n",
    "    * We must try to use {} since it's faster, it will push values directly while \"dict\" uses LOAD_NAME to get the associated object and then CALL_FUNCTION to load.\n",
    "    * {key1: value1, key2: value2}  \n",
    "    * {prices: [100, 101, 109], action: [\"buy\",\"sell\"]}\n",
    "    * Pair made of a key and a value, similar to objects (instances with a value for each attribute).\n",
    "    * Similar to JSON but instead of a 'string' format, this is a structure with memory (in-memory object).\n",
    "\n",
    "\n",
    "* Lists\n",
    "    * [ ] or list( )\n",
    "    * [101, 100, 101.5, 103, 108]\n",
    "    * Ordered sequences of objects, they can be extended or reduced. Similar to arrays.\n",
    "    * LIFO Stacks (last-in, first-out) using methods pop() and append()\n",
    "    * FIFO Queues (first-in, first out) using _collections.deque_ methods like popleft\n",
    "    \n",
    "\n",
    "* Tuples\n",
    "    * ( \"price\", \"action\" )\n",
    "    * ( 100, \"buy\" )\n",
    "    * Ordered sequences of objects, immutable. Similar to arrays.\n",
    "    * Faster than lists and they can be used in dictionaries.\n",
    "    * { (\"price\",\"action\"): (100,\"buy\"), (\"hour\",\"minute\"): (14,58) }\n",
    "    \n",
    "\n",
    "* Sets\n",
    "    * set( [100, 101.2, 100, 101, 100] )\n",
    "    * Mutable unordered sequence of _unique_ elements. \n",
    "    * Similar to arrays but without duplicated values (good for ID's)\n",
    "    \n",
    "   \n",
    "   \n",
    "   \n",
    "    \n",
    "Now, some abstract implemented with **Queue** or **heapq** modules\n",
    "\n",
    "* Priority queues ()\n",
    "    * They might be constructed as lists but we'll get lowest values first.\n",
    "    * In other words, high priority is served first and then, when two elements have same priority, they are served per order in the queue.\n",
    "    \n",
    "\n",
    "**If you want to see more.. you can import for example collections:**\n",
    "\n",
    "**Write a dot and then use \"tab\" to see all options available.. or just type \\_\\_dict\\_\\_**\n",
    "\n",
    "**Try other modules, Python is all about modules!! **\n"
   ]
  },
  {
   "cell_type": "code",
   "execution_count": 3,
   "metadata": {
    "collapsed": true
   },
   "outputs": [],
   "source": [
    "\n",
    "import collections\n",
    "\n",
    "# collections.\n",
    "# collections.__dict__\n"
   ]
  },
  {
   "cell_type": "code",
   "execution_count": 4,
   "metadata": {},
   "outputs": [
    {
     "name": "stdout",
     "output_type": "stream",
     "text": [
      "0.0421159803666\n",
      "0.169504540305\n"
     ]
    }
   ],
   "source": [
    "### Let's import one more module\n",
    "import timeit\n",
    "\n",
    "print timeit.timeit(\"{}\")\n",
    "print timeit.timeit(\"dict()\")\n"
   ]
  },
  {
   "cell_type": "code",
   "execution_count": 5,
   "metadata": {},
   "outputs": [
    {
     "name": "stdout",
     "output_type": "stream",
     "text": [
      "(101.1, 'buy', 'trader ZG')\n",
      "(101.3, 'buy', 'trader DB')\n",
      "(101.5, 'buy', 'trader DB')\n",
      "(101.5, 'buy', 'trader ZG')\n"
     ]
    }
   ],
   "source": [
    "\n",
    "### Queue and priority example\n",
    "from Queue import PriorityQueue\n",
    "\n",
    "q = PriorityQueue()   # Remember: lowest first\n",
    "q.put( (101.5,\"buy\",\"trader ZG\") )\n",
    "q.put( (101.1,\"buy\",\"trader ZG\") )\n",
    "q.put( (101.3,\"buy\",\"trader DB\") )\n",
    "q.put( (101.5,\"buy\",\"trader DB\") )\n",
    "\n",
    "while not q.empty():\n",
    "    print q.get()\n",
    "    "
   ]
  },
  {
   "cell_type": "markdown",
   "metadata": {},
   "source": [
    "> Queue is useful for threaded programming [take a look here](https://docs.python.org/3/library/queue.html)\n",
    "\n",
    "> To define priorities you can use [heapq](https://docs.python.org/2/library/heapq.html) too"
   ]
  },
  {
   "cell_type": "markdown",
   "metadata": {},
   "source": [
    "<!-- <div class=\"alert alert-block alert-info\">  -->\n",
    "\n",
    "**2.2** Now let's see **classes and functions**. There are two ways to create classes: \n",
    "\n",
    "- Traditional option: Define each attribute using \"self\" definition (this automatically creates a \"\\_\\_dict\\_\\_\")\n",
    "- Using \"slots\": Declare name of the attributes first.\n",
    "\n",
    "> What's the difference? \n",
    "By default each object has a *\\_\\_dict\\_\\_* with all attributes, this means memory space for this structure. If we want to save space because only some instances will be created, we can use \"slots\" but must be aware of the following constraints: While **\\_\\_slots\\_\\_** is read-only tuple, a **\\_\\_dict\\_\\_** this is a read and write structure (literally a dictionary). Also, \\_\\_slots\\_\\_ declaration is only for the class defined, not for subclasses.\n"
   ]
  },
  {
   "cell_type": "markdown",
   "metadata": {},
   "source": [
    "> All details about [classes](https://docs.python.org/2.7/tutorial/classes.html)\n",
    "\n",
    "> More details about slots: [documentation](https://docs.python.org/3/reference/datamodel.html#slots)\n"
   ]
  },
  {
   "cell_type": "code",
   "execution_count": 6,
   "metadata": {},
   "outputs": [
    {
     "name": "stdout",
     "output_type": "stream",
     "text": [
      "{'action': 'buy', 'price': 101.64}\n",
      "101.64\n"
     ]
    }
   ],
   "source": [
    "class sampleClass(object):\n",
    "    \n",
    "    def __init__(self, *args, **kwargs):\n",
    "        self.price = 101.64\n",
    "        self.action = \"buy\"\n",
    "\n",
    "        \n",
    "a = sampleClass()\n",
    "print a.__dict__\n",
    "print a.__dict__['price']\n"
   ]
  },
  {
   "cell_type": "code",
   "execution_count": 7,
   "metadata": {},
   "outputs": [
    {
     "name": "stdout",
     "output_type": "stream",
     "text": [
      "('price', 'action')\n",
      "101.64\n"
     ]
    }
   ],
   "source": [
    "class sampleClassSlots(object):\n",
    "    \n",
    "    ## Attributes as \"descriptors\"\n",
    "    __slots__ = ('price', 'action') \n",
    "    \n",
    "    def __init__(self, *args, **kwargs):\n",
    "        self.price = 101.64\n",
    "        self.action = \"buy\"\n",
    "\n",
    "        \n",
    "b = sampleClassSlots()\n",
    "print b.__slots__\n",
    "print b.price\n"
   ]
  },
  {
   "cell_type": "code",
   "execution_count": 8,
   "metadata": {},
   "outputs": [
    {
     "name": "stdout",
     "output_type": "stream",
     "text": [
      "0.513779768102\n",
      "0.600130114014\n"
     ]
    }
   ],
   "source": [
    "\n",
    "### Time in seconds: number of seconds, WE DON'T NNED TO IMPORT AGAIN !!!!!!!!!!!\n",
    "\n",
    "print timeit.timeit( sampleClassSlots )\n",
    "print timeit.timeit( sampleClass )\n"
   ]
  },
  {
   "cell_type": "code",
   "execution_count": 9,
   "metadata": {},
   "outputs": [
    {
     "name": "stdout",
     "output_type": "stream",
     "text": [
      "272\n",
      "64\n"
     ]
    }
   ],
   "source": [
    "\n",
    "### Let's see the size in BYTES, we can \"sys\" module (a very important one)\n",
    "import sys\n",
    "\n",
    "print sys.getsizeof( a.__dict__ )\n",
    "print sys.getsizeof( b.__slots__ )\n"
   ]
  },
  {
   "cell_type": "code",
   "execution_count": 10,
   "metadata": {},
   "outputs": [
    {
     "name": "stdout",
     "output_type": "stream",
     "text": [
      "{'action': 'buy', 'price': 101.64, 'hour': 12}\n"
     ]
    },
    {
     "ename": "AttributeError",
     "evalue": "'sampleClassSlots' object attribute '__slots__' is read-only",
     "output_type": "error",
     "traceback": [
      "\u001b[1;31m\u001b[0m",
      "\u001b[1;31mAttributeError\u001b[0mTraceback (most recent call last)",
      "\u001b[1;32m<ipython-input-10-8e153976d2d9>\u001b[0m in \u001b[0;36m<module>\u001b[1;34m()\u001b[0m\n\u001b[0;32m      5\u001b[0m \u001b[1;32mprint\u001b[0m \u001b[0ma\u001b[0m\u001b[1;33m.\u001b[0m\u001b[0m__dict__\u001b[0m\u001b[1;33m\u001b[0m\u001b[0m\n\u001b[0;32m      6\u001b[0m \u001b[1;33m\u001b[0m\u001b[0m\n\u001b[1;32m----> 7\u001b[1;33m \u001b[0mb\u001b[0m\u001b[1;33m.\u001b[0m\u001b[0m__slots__\u001b[0m \u001b[1;33m=\u001b[0m \u001b[1;33m(\u001b[0m\u001b[1;34m'price'\u001b[0m\u001b[1;33m,\u001b[0m \u001b[1;34m'action'\u001b[0m\u001b[1;33m,\u001b[0m \u001b[1;34m'hour'\u001b[0m\u001b[1;33m)\u001b[0m\u001b[1;33m\u001b[0m\u001b[0m\n\u001b[0m\u001b[0;32m      8\u001b[0m \u001b[1;32mprint\u001b[0m \u001b[0mb\u001b[0m\u001b[1;33m.\u001b[0m\u001b[0m__slots__\u001b[0m\u001b[1;33m\u001b[0m\u001b[0m\n",
      "\u001b[1;31mAttributeError\u001b[0m: 'sampleClassSlots' object attribute '__slots__' is read-only"
     ]
    }
   ],
   "source": [
    "\n",
    "### Let's try to add more attributes:\n",
    "\n",
    "a.__dict__['hour'] = 12\n",
    "print a.__dict__\n",
    "\n",
    "b.__slots__ = ('price', 'action', 'hour') \n",
    "print b.__slots__\n"
   ]
  },
  {
   "cell_type": "markdown",
   "metadata": {},
   "source": [
    "## 3. Control Flow and relational operators\n",
    "\n",
    "<!-- ## <font color=blue>3. Control Flow and relational operators</font>  -->\n",
    "\n",
    "<!-- <div class=\"alert alert-block alert-info\">  -->\n",
    "\n",
    "At this point, you might have noticed that in Python we don't need to declare variables (they are implicitly declared once we assign values) and we don't use punctuation marks. But one more particular aspect: Python identify blocks with **indentation**. One line indented would be expected to correspond to the previous line. For this, the interpreter can handle either spaces or tabs (if we want to go formal we should use 4 spaces).\n",
    "\n",
    "_Note: You can use backslash \\ to split commands into 2 or more lines !!_\n",
    "\n",
    "*** \n",
    "\n",
    "***\n",
    "\n",
    "Once we know that, we can see the different ways in which we can work with basic control flows:\n",
    "\n",
    "- If statement  \n",
    "    - If *statement* : ... \n",
    "    - elif (*statement*) : ... \n",
    "    - else : ...\n",
    "- For statement\n",
    "    - for i in range(n) : ... i ...\n",
    "- While statement\n",
    "    -  while *statement* : ...\n",
    "\n",
    "\n",
    "\n",
    "In those crotrols we can always use: **pass, continue or break**\n",
    "\n"
   ]
  },
  {
   "cell_type": "code",
   "execution_count": null,
   "metadata": {
    "collapsed": true
   },
   "outputs": [],
   "source": [
    "#### Data to use\n",
    "\n",
    "prices = [100, 101, 99.8, 99.5, 101.2, 100.5, 101.2, 102.2]\n",
    "benchmark = 100\n"
   ]
  },
  {
   "cell_type": "code",
   "execution_count": null,
   "metadata": {
    "collapsed": true
   },
   "outputs": [],
   "source": [
    "\n",
    "allPricesToUse, exceptionPrices = [], []\n",
    "\n",
    "for i in prices:\n",
    "    if i > benchmark: allPricesToUse.append(i)\n",
    "    else: exceptionPrices.append(i)\n",
    "    \n",
    "print \"Success\", allPricesToUse, \"Fail\", exceptionPrices\n",
    "    "
   ]
  },
  {
   "cell_type": "markdown",
   "metadata": {},
   "source": [
    "<!-- <div class=\"alert alert-block alert-info\">  -->\n",
    "\n",
    "> There is also a shorter way to do this using **list comprehension**. \n",
    "\n"
   ]
  },
  {
   "cell_type": "code",
   "execution_count": null,
   "metadata": {
    "collapsed": true
   },
   "outputs": [],
   "source": [
    "\n",
    "### One line per list\n",
    "allPricesToUse = [ i for i in prices if i > benchmark ]\n",
    "exceptionPrices = [ i for i in prices if i not in allPricesToUse]\n",
    "    \n",
    "print \"Success\", allPricesToUse, \"Fail\", exceptionPrices\n"
   ]
  },
  {
   "cell_type": "code",
   "execution_count": null,
   "metadata": {
    "collapsed": true
   },
   "outputs": [],
   "source": [
    "\n",
    "### Combinations (joints) -> two loops for one list\n",
    "joints = [ (x,y) for x in allPricesToUse  for y in exceptionPrices ]\n",
    "    \n",
    "print \"\\n\", \"Joints\", joints\n"
   ]
  },
  {
   "cell_type": "markdown",
   "metadata": {},
   "source": [
    "\n",
    "> This method is also available for **dictionaries** and **sets**.\n",
    "\n",
    "\n"
   ]
  },
  {
   "cell_type": "code",
   "execution_count": null,
   "metadata": {
    "collapsed": true
   },
   "outputs": [],
   "source": [
    "\n",
    "\n",
    "allPricesToUse =  { i for i in prices if i > benchmark }\n",
    "exceptionPrices = { num: price for num,price in enumerate(prices) if price < benchmark}\n",
    "\n",
    "print \"\\n\", \"Successes in a Set (no duplicates)  - \", allPricesToUse, \"\\n\"\n",
    "print \"Fails in a dictionary  - \", exceptionPrices\n"
   ]
  },
  {
   "cell_type": "markdown",
   "metadata": {},
   "source": [
    "\n",
    "> More Control flow specifications [documented here](https://docs.python.org/3/tutorial/controlflow.html)\n"
   ]
  },
  {
   "cell_type": "markdown",
   "metadata": {},
   "source": [
    "<!-- <div class=\"alert alert-block alert-info\">  -->\n",
    "\n",
    "Here are the rest of the relational operators so we can use them in control flows or any other process:\n",
    "\n",
    "- Equal ==\n",
    "- strictly less than < \n",
    "- less than or equal <=\n",
    "- strictly greater than >\n",
    "- greater than or equal >=\n",
    "- not equal !=\n",
    "- object identity \"is\"\n",
    "- negated object identity \"is not\"\n",
    "- \"and\", also known as \"&\" \n",
    "- \"or\", also known as \"|\"\n"
   ]
  },
  {
   "cell_type": "markdown",
   "metadata": {},
   "source": [
    "## 4. Functions and development modules\n",
    "\n",
    "<!-- ## <font color=blue>4. Functions and development modules</font> -->\n",
    "\n",
    "<!-- <div class=\"alert alert-block alert-info\">  -->\n",
    "\n",
    "**4.1 FUNCTIONS** \n",
    "\n",
    "\n",
    "To create procedures we only have to include the word \"def\" and their inputs using parenthesis (or an empty one). We can pass only input values, specific names or even dictionaries usin \\* or \\*\\* . Look at the following examples:\n",
    "\n"
   ]
  },
  {
   "cell_type": "code",
   "execution_count": null,
   "metadata": {
    "collapsed": true
   },
   "outputs": [],
   "source": [
    "\n",
    "def myArgsFunctions(internal1, internal2, internal3, internal4):\n",
    "    print (internal1 + 1, internal2 + 2, internal3 + 3, internal4 + 4  )\n",
    "\n",
    "    \n",
    "### Traditional input\n",
    "myArgsFunctions(10,200,30,4000)\n",
    "\n",
    "### Traditional input without order\n",
    "myArgsFunctions(internal2=200, internal1=10, internal4=4000, internal3=30)\n",
    "    \n",
    "### Input sent as dictionary \n",
    "orderedArg = (10,200)\n",
    "dictArg = {'internal3':30, 'internal4':4000}\n",
    "\n",
    "myArgsFunctions(*orderedArg , **dictArg)\n"
   ]
  },
  {
   "cell_type": "code",
   "execution_count": null,
   "metadata": {
    "collapsed": true
   },
   "outputs": [],
   "source": [
    "\n",
    "def myArgsFunctions(**args):\n",
    "    print args['internal1']+1 \n",
    "\n",
    "    \n",
    "### Traditional input\n",
    "myArgsFunctions(internal2=200, internal1=10, internal4=4000, internal3=30)\n",
    "    \n",
    "### Input sent as dictionary \n",
    "dictArg = {'internal1':10, 'internal3':30, 'internal4':4000}\n",
    "myArgsFunctions(**dictArg)\n"
   ]
  },
  {
   "cell_type": "markdown",
   "metadata": {},
   "source": [
    "<!-- <div class=\"alert alert-block alert-info\">  -->\n",
    "\n",
    "> We can also pass functions and call them locally.\n"
   ]
  },
  {
   "cell_type": "code",
   "execution_count": null,
   "metadata": {
    "collapsed": true
   },
   "outputs": [],
   "source": [
    "\n",
    "def firstFunction(price,action):\n",
    "    print \"%s at %d\"%(action, price)\n",
    "\n",
    "def secondFunction(firstFunction,inputValues):\n",
    "    firstFunction(*inputValues)\n",
    "    \n",
    "values = (101,\"buy\")\n",
    "secondFunction( firstFunction, values )\n"
   ]
  },
  {
   "cell_type": "markdown",
   "metadata": {},
   "source": [
    "<!-- <div class=\"alert alert-block alert-info\">  -->\n",
    "\n",
    "> Now let's take a look to functions with 'return' values.\n"
   ]
  },
  {
   "cell_type": "code",
   "execution_count": null,
   "metadata": {
    "collapsed": true
   },
   "outputs": [],
   "source": [
    "\n",
    "externalVar = \"buy\"\n",
    "\n",
    "def myFunction(internalVar):\n",
    "    internalVar = str(internalVar)\n",
    "    internalVar = internalVar + \" - \" + externalVar\n",
    "    return internalVar\n",
    "\n",
    "print myFunction(101.32)\n"
   ]
  },
  {
   "cell_type": "markdown",
   "metadata": {},
   "source": [
    "\n",
    "<!-- <div class=\"alert alert-block alert-info\">  -->\n",
    "\n",
    "> In this last example look at how **type conversion** (typecasting) works, literally with the words \"str\", \"int\" or \"float\" ( remember this from how we transformed a list into a set, same concept! ).\n",
    "\n",
    "> See how we concatenate strings simply by adding **\"+\"** them. In the following example, we'll see how we add variables using the **+=** command.\n",
    "\n",
    "> Moreover, we must know that, by default, variable are local. You can definitely use **global** and **local** variables, but make sure you're not duplicating names, otherwise local variables will replace externals. \n"
   ]
  },
  {
   "cell_type": "code",
   "execution_count": null,
   "metadata": {
    "collapsed": true
   },
   "outputs": [],
   "source": [
    "\n",
    "externalVar = \"buy\"\n",
    "internalVar = 101.32\n",
    "\n",
    "def myFunction(internalVar):\n",
    "\n",
    "    internalVar  = str(internalVar)\n",
    "    internalVar += \" - \" + externalVar\n",
    "    return internalVar\n",
    "\n",
    "print myFunction(104)\n"
   ]
  },
  {
   "cell_type": "markdown",
   "metadata": {},
   "source": [
    "> See how we can't change variables outside the function, even using the same name"
   ]
  },
  {
   "cell_type": "code",
   "execution_count": null,
   "metadata": {
    "collapsed": true
   },
   "outputs": [],
   "source": [
    "\n",
    "externalVar = \"buy\"\n",
    "internalVar = 101.32\n",
    "\n",
    "def myFunction(internalVar):\n",
    "    \n",
    "    internalVar  = str(internalVar)\n",
    "    internalVar += \" - \" + externalVar\n",
    "    return internalVar\n",
    "\n",
    "\n",
    "print myFunction(104)\n",
    "print internalVar\n"
   ]
  },
  {
   "cell_type": "markdown",
   "metadata": {},
   "source": [
    "<!-- <div class=\"alert alert-block alert-info\">  -->\n",
    "\n",
    "**4.2 PYDEV** \n",
    "\n",
    "One relevant aspect for Python development is **PyDev**, a Python IDE (plugin) for Eclipse.\n",
    "\n",
    "<br>\n",
    "\n",
    "Once we have Python and Ecplise, we must define location of your Python installation in Eclipse:\n",
    "* Open in the Window ▸ Preference ▸ Pydev ▸ Interpreter Python menu.\n",
    "\n",
    "\n",
    "Now we can create a new project under PyDev:\n",
    "* Select File ▸ New ▸ Project ▸ Pydev ▸ Pydev Project.\n",
    "* Select Window ▸ Open Perspective ▸ Other ▸ PyDev perspective\n",
    "\n",
    "\n",
    "Then, we can create and run scripts:\n",
    "\n",
    "* Right-click on the src folder ▸ New ▸ PyDev Module (create a module and write the source code). \n",
    "* Run As ▸ Python run\n",
    "* Debugging: add a breakpoint and Debug as ▸ Python Run\n"
   ]
  },
  {
   "cell_type": "markdown",
   "metadata": {},
   "source": [
    "\n",
    "> Getting started with [PyDev and Eclipse](http://www.pydev.org/manual_101_root.html)"
   ]
  },
  {
   "cell_type": "markdown",
   "metadata": {
    "collapsed": true
   },
   "source": [
    "\n",
    "<!-- <div class=\"alert alert-block alert-info\">  -->\n",
    "**4.3 ** Another important module is **IPython**. This is an interactive and dynamic environment for Python and Unix commands. It also has decoupled two-process communication model, and parallel computing features. We can use Ipython commands here (Jupyter notebooks) or in the console:\n",
    "\n",
    "\n",
    "<img src=\"images/Ipython.jpg\" width=\"700\" height=\"700\" border=\"10\" />\n",
    "\n",
    "Ipython examples:\n",
    "\n",
    "\n",
    "* Get previous results using the input or output number.\n",
    "    * Input In[n], _in, or _ih[n]\n",
    "    * Output Out[n], _n, or _oh[n]\n",
    "    \n",
    "    \n",
    "* Complete commands when we don't know the name of methods/attributes\n",
    "    * ? or ?? before or after an object will print information about the object\n",
    "    * ? can be combined with * to search commands \n",
    "    * Example: a? to find out type and value of the \"a\" object \n",
    "    * Example: *time*? to find out any method or object that includes the word \"time\"\n",
    "    \n",
    "    \n",
    "* If you are using Ipython in the console, type < TAB \\> key to complete words with the module's content or attributes of objects\n",
    "\n",
    "\n",
    "* Magic commands. This specific Ipython functions are designed to enhance our Python experience:\n",
    "    * We can run Python scripts using %run path/myscrpt.py\n",
    "    * We can get times of a process with %timeit\n",
    "    * We can start debugger with %debug or %pdb\n",
    "\n"
   ]
  },
  {
   "cell_type": "markdown",
   "metadata": {},
   "source": [
    "> Parallel with Ipython [Documentaiton](http://ipyparallel.readthedocs.io/en/latest/intro.html#examples)\n",
    "\n",
    "> Magic functions: Lines and cells [details here](https://ipython.org/ipython-doc/3/interactive/magics.html)"
   ]
  },
  {
   "cell_type": "code",
   "execution_count": null,
   "metadata": {
    "collapsed": true
   },
   "outputs": [],
   "source": [
    "\n",
    "### Let's use some magic commands\n",
    "\n",
    "%timeit sampleClassSlots()\n",
    "%timeit sampleClass()\n"
   ]
  },
  {
   "cell_type": "code",
   "execution_count": null,
   "metadata": {
    "collapsed": true
   },
   "outputs": [],
   "source": [
    "\n",
    "### Let's search fo class type and objects\n",
    "\n",
    "b?\n",
    "*time*?\n",
    "\n",
    "Mytime = 1\n",
    "*time*?\n"
   ]
  },
  {
   "cell_type": "code",
   "execution_count": null,
   "metadata": {
    "collapsed": true
   },
   "outputs": [],
   "source": [
    "\n",
    "### Let's take a look to the 19th input that we sent\n",
    "\n",
    "In[13]\n"
   ]
  },
  {
   "cell_type": "markdown",
   "metadata": {},
   "source": [
    "<!-- <div class=\"alert alert-block alert-warning\">  -->\n",
    "\n",
    "## Next class:\n",
    "\n",
    "- Python scripts and modules\n",
    "- Pandas and Numpy\n",
    "- Processing files\n",
    "- Regular expressions and unstructured data \n",
    "- Basic visualization techniques \n",
    "    "
   ]
  },
  {
   "cell_type": "code",
   "execution_count": null,
   "metadata": {
    "collapsed": true
   },
   "outputs": [],
   "source": []
  }
 ],
 "metadata": {
  "kernelspec": {
   "display_name": "Python 2",
   "language": "python",
   "name": "python2"
  },
  "language_info": {
   "codemirror_mode": {
    "name": "ipython",
    "version": 2
   },
   "file_extension": ".py",
   "mimetype": "text/x-python",
   "name": "python",
   "nbconvert_exporter": "python",
   "pygments_lexer": "ipython2",
   "version": "2.7.13"
  }
 },
 "nbformat": 4,
 "nbformat_minor": 2
}
